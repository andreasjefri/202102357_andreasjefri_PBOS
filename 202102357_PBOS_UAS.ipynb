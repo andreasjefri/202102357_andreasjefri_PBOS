{
 "cells": [
  {
   "cell_type": "code",
   "execution_count": 45,
   "id": "5aaf93df",
   "metadata": {
    "scrolled": false
   },
   "outputs": [
    {
     "name": "stdout",
     "output_type": "stream",
     "text": [
      "Panjang = 2\n",
      "Lebar = 2\n",
      "________________________________\n",
      "hasil dari perhitungan adalah :\n",
      "Keliling :  8\n",
      "Luas     :  4\n",
      "________________________________\n"
     ]
    }
   ],
   "source": [
    "pjg = int(input(\"Panjang = \"))\n",
    "lbr = int(input(\"Lebar = \"))\n",
    "\n",
    "def print1(pjg,lebar):\n",
    "    keliling = (2*pjg) + (2*lbr)\n",
    "    luas = (pjg * lbr)\n",
    "    print(\"________________________________\")\n",
    "    print(\"hasil dari perhitungan adalah :\")\n",
    "    print(\"Keliling : \",keliling)\n",
    "    print(\"Luas     : \",luas)\n",
    "    print(\"________________________________\")\n",
    "print1(pjg,lbr)"
   ]
  },
  {
   "cell_type": "code",
   "execution_count": 42,
   "id": "d0717069",
   "metadata": {},
   "outputs": [
    {
     "name": "stdout",
     "output_type": "stream",
     "text": [
      "Nama   : andreas\n",
      "Alamat : pil\n",
      "NIM    : 202102357\n",
      "Umur    : 20\n",
      "----------------------------------------------\n",
      "\n",
      "Berikut adalah isi data diri anda: \n",
      "Nama   :  andreas\n",
      "Alamat :  pil\n",
      "NIM    :  202102357\n",
      "Umur   :  20\n",
      "----------------------------------------------\n"
     ]
    }
   ],
   "source": [
    "class Datadiri():\n",
    "    def _init_(self,nama,alamat,nim,umur):\n",
    "        \n",
    "        print(\"===Isikanlah Data Diri Anda : ===\")\n",
    "        \n",
    "    def input(self):\n",
    "        self.nama = input(\"Nama   : \")\n",
    "        self.alamat = input(\"Alamat : \")\n",
    "        self.nim = input(\"NIM    : \")\n",
    "        self.umur = input(\"Umur    : \")\n",
    "        print (\"----------------------------------------------\")     \n",
    "class datadiri(Datadiri):\n",
    "    def cetak(self):\n",
    "        print (\"\\nBerikut adalah isi data diri anda: \")\n",
    "        print (\"Nama   : \", self.nama)\n",
    "        print (\"Alamat : \", self.alamat)\n",
    "        print (\"NIM    : \", self.nim)\n",
    "        print (\"Umur   : \",self.umur)\n",
    "        print (\"----------------------------------------------\")  \n",
    "data = datadiri ()\n",
    "data.input()\n",
    "data.cetak()"
   ]
  },
  {
   "cell_type": "code",
   "execution_count": null,
   "id": "38180f71",
   "metadata": {},
   "outputs": [
    {
     "name": "stdout",
     "output_type": "stream",
     "text": [
      "1. Tambah\n",
      "2. Kurang\n",
      "3. Kali\n",
      "4. Bagi\n",
      "5. Exit\n",
      "Pilih operasi :1\n",
      "\n",
      "Masukkan Angka Pertama :40\n",
      "\n",
      "Masukkan Angka Kedua   :30\n",
      "40 + 30 = 70\n",
      "1. Tambah\n",
      "2. Kurang\n",
      "3. Kali\n",
      "4. Bagi\n",
      "5. Exit\n"
     ]
    }
   ],
   "source": [
    "class calculator:\n",
    "    def tambah(self, a, b):\n",
    "        return a+b\n",
    "    def kurang(self, a, b):\n",
    "        return a-b\n",
    "    def kali(self, a, b):\n",
    "        return a*b\n",
    "    def bagi(self, a, b):\n",
    "        return a/b\n",
    "    \n",
    "kalkulator = calculator()\n",
    "\n",
    "while True:\n",
    "    print(\"1. Tambah\")\n",
    "    print(\"2. Kurang\")\n",
    "    print(\"3. Kali\")\n",
    "    print(\"4. Bagi\")\n",
    "    print(\"5. Exit\")\n",
    "    \n",
    "    ch = int(input(\"Pilih operasi :\"))\n",
    "    \n",
    "    if ch in (1, 2, 3, 4, 5):\n",
    "        if(ch==5):\n",
    "            break\n",
    "            \n",
    "        a = int(input(\"\\nMasukkan Angka Pertama :\"))\n",
    "        b = int(input(\"\\nMasukkan Angka Kedua   :\"))\n",
    "        \n",
    "        if(ch==1):\n",
    "            print(a, \"+\", b, \"=\", kalkulator.tambah(a,b))\n",
    "            \n",
    "        elif(ch==2):\n",
    "            print(a, \"-\", b, \"=\", kalkulator.kurang(a,b))\n",
    "            \n",
    "        elif(ch==3):\n",
    "            print(a, \"x\", b, \"=\", kalkulator.kali(a,b))\n",
    "            \n",
    "        elif(ch==4):\n",
    "            print(a, \":\", b, \"=\", kalkulator.bagi(a,b))\n",
    "            \n",
    "    else:\n",
    "        print(\"Invalid Input\")"
   ]
  },
  {
   "cell_type": "code",
   "execution_count": null,
   "id": "f118fbf6",
   "metadata": {},
   "outputs": [],
   "source": []
  }
 ],
 "metadata": {
  "kernelspec": {
   "display_name": "Python 3",
   "language": "python",
   "name": "python3"
  },
  "language_info": {
   "codemirror_mode": {
    "name": "ipython",
    "version": 3
   },
   "file_extension": ".py",
   "mimetype": "text/x-python",
   "name": "python",
   "nbconvert_exporter": "python",
   "pygments_lexer": "ipython3",
   "version": "3.8.8"
  }
 },
 "nbformat": 4,
 "nbformat_minor": 5
}
